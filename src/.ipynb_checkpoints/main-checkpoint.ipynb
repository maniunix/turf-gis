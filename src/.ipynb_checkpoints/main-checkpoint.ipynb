{
 "cells": [
  {
   "cell_type": "code",
   "execution_count": 121,
   "id": "6134e036-76e6-4a11-b575-a6ab736c1b0c",
   "metadata": {},
   "outputs": [],
   "source": [
    "import geopandas as gpd\n",
    "import turfpy\n",
    "import folium\n",
    "import numpy as np\n",
    "import shapely\n",
    "import geemap\n",
    "import ipywidgets as widgetsW\n",
    "from shapely.geometry import Point as shppt\n",
    "from geojson import Point, Feature, FeatureCollection\n",
    "from ipyleaflet import Map, GeoJSON, LayersControl, Marker, LayerGroup\n",
    "from ipywidgets import Label\n",
    "from ipyleaflet import WidgetControl\n",
    "from turfpy.measurement import nearest_point, distance\n",
    "import ee"
   ]
  },
  {
   "cell_type": "code",
   "execution_count": 67,
   "id": "dbd6a35a-868c-41cb-bf07-8fd16501bfb7",
   "metadata": {},
   "outputs": [],
   "source": [
    "map = geemap.Map()\n",
    "ee.Initialize()"
   ]
  },
  {
   "cell_type": "code",
   "execution_count": 76,
   "id": "b671ac0d-259e-4bef-a6bd-7c0329650aa9",
   "metadata": {},
   "outputs": [],
   "source": [
    "geojson_path = \"E:/Satyukt/paired_pilot/data/shp/VILLAGE.shp\"\n",
    "\n",
    "gdf = gpd.read_file(geojson_path)\n",
    "gdf = gdf.loc[:100]\n",
    "\n",
    "## Calculate the Centroid\n",
    "gdf['centroid'] = [x.centroid for x in gdf.geometry]\n",
    "\n",
    "#For meters\n",
    "# gdf = gdf.to_crs(3763)"
   ]
  },
  {
   "cell_type": "code",
   "execution_count": 132,
   "id": "4a3b1043-214d-463f-ab48-e3429da484d8",
   "metadata": {},
   "outputs": [],
   "source": [
    "## Initialize the Map\n",
    "m = Map(center = [18.42,77.35], zoom = 12)\n",
    "\n",
    "# Convert the centroids in gdf to a FeatureCollection\n",
    "feature_collection = FeatureCollection([Feature(geometry=Point(list(gdf['centroid'][i].coords)[0])) for i in range(len(gdf))])"
   ]
  },
  {
   "cell_type": "code",
   "execution_count": 72,
   "id": "f81fd4b4-5415-44ca-8b0f-251f4422a5c1",
   "metadata": {},
   "outputs": [],
   "source": [
    "\n",
    "def getNearestPointDistance(pt,dist):\n",
    "    '''\n",
    "    Returns the Nearest Point in the Feature collection\n",
    "    It takes two arguments:\n",
    "        pt >> shapely.coordinates.sequence\n",
    "        dist >> Its the boolean value which if set to true, \n",
    "        Returns the distance in meters to that point\n",
    "    '''\n",
    "    global feature_collection\n",
    "    point = Point(pt)\n",
    "    if dist == True:\n",
    "        return (distance(point,nearest_point(point, feature_collection)))\n",
    "    \n",
    "    return nearest_point(point, feature_collection)\n",
    "\n",
    "\n",
    "\n",
    "\n",
    "def bufferPoint(pt):\n",
    "    '''\n",
    "    Takes the Shapely.geometry.point object and returns the buffer of 50 meters\n",
    "    '''\n",
    "    return gpd.GeoSeries(pt).buffer(0.2)\n",
    "\n",
    "\n",
    "\n",
    "\n",
    "def pointsInBuffer(buff) -> shapely.geometry.polygon:\n",
    "    '''\n",
    "    Takes the Buffer of a point and returns all the points which lies inside of the Polygon\n",
    "    It returns the GeoDataFrame of the Points.\n",
    "    '''\n",
    "    global gdf\n",
    "    return gdf.iloc[[buffer.contains(gdf['centroid'][i])[0] for i in range(len(gdf))]] \n",
    "\n",
    "\n",
    "\n",
    "\n",
    "def convShapelyGeometry(coords) -> shapely.geometry.point.Point:\n",
    "    '''\n",
    "    Convert the Shapely.geometry.Point object to ee.Geometry.Point object\n",
    "    '''\n",
    "    return ee.Geometry.Point(list(coords.coords)[0])\n",
    "\n",
    "\n",
    "\n",
    "\n",
    "def getNDVI(coords):\n",
    "    '''\n",
    "    Calculate the NDVI value of the first image for the ee.Geometry.Point object\n",
    "    Returns NDVI value\n",
    "    '''\n",
    "    coords = convShapelyGeometry(coords)\n",
    "    \n",
    "    s2_collection = ee.ImageCollection('COPERNICUS/S2_SR').filterBounds(coords).first()\n",
    "    \n",
    "    ndvi = s2_collection.normalizedDifference(['B8', 'B4'])\n",
    "    \n",
    "    # Get the value of NDVI at the point of interest\n",
    "    point_ndvi = ndvi.reduceRegion(\n",
    "        reducer=ee.Reducer.first(),\n",
    "        geometry=coords,\n",
    "        scale=10\n",
    "    )\n",
    "\n",
    "    ndvi_value = point_ndvi.get('nd').getInfo()\n",
    "    return ndvi_value\n",
    "\n",
    "\n",
    "\n",
    "def markerCoords(cords):\n",
    "    '''\n",
    "    This function takes the coordinates of the Centroid.\n",
    "    Returns the Marker object\n",
    "    '''\n",
    "    return Marker(location = (cords.coords[0][1],cords.coords[0][0])) \n",
    "    "
   ]
  },
  {
   "cell_type": "code",
   "execution_count": 133,
   "id": "6a132cab-cdb0-4c9a-b24e-331252636519",
   "metadata": {},
   "outputs": [],
   "source": [
    "gdf['Markers'] = gdf['centroid'].apply(markerCoords)\n",
    "add_markers = [m.add_layer(mark) for mark in gdf.loc[:50]['Markers']]\n",
    "\n",
    "clicked_lat = None\n",
    "clicked_lon = None\n",
    "def handle_interaction(**kwargs):\n",
    "    global m\n",
    "    lat,lon = kwargs.get('coordinates')\n",
    "    clicked_lat = lat\n",
    "    clicked_lon = lon\n",
    "    if kwargs.get('type') == 'click':\n",
    "        # Map.default_style = {'cursor': 'wait'}\n",
    "        # with output_widget:\n",
    "        #     output_widget.clear_output()\n",
    "        #     print(lat,lon)\n",
    "        # Map.default_style = {'cursor': 'pointer'}\n",
    "        points_in_buff = pointsInBuffer(bufferPoint(Point(lat,lon)))\n",
    "        for marker in points_in_buff['Markers']:\n",
    "            marker.opacity = 1.0   "
   ]
  },
  {
   "cell_type": "code",
   "execution_count": 134,
   "id": "45ccfc2d-ac42-418d-a867-03f4b70b0049",
   "metadata": {},
   "outputs": [],
   "source": [
    "m.on_interaction(handle_interaction)\n",
    "output_widget = widgets.Output(layout={'border': '1px solid black'})\n",
    "output_control = WidgetControl(widget=output_widget, position='bottomright')\n",
    "m.add_control(output_control)"
   ]
  },
  {
   "cell_type": "code",
   "execution_count": 135,
   "id": "8f87d734-fa15-4b92-aba0-bc831a24c4bb",
   "metadata": {},
   "outputs": [],
   "source": [
    "### Add all the points in the dataframe on Map\n",
    "### On clicking the a point get all the points on that buffer\n",
    "### Returned Geodataframe - Highlight the centroid under buffer"
   ]
  },
  {
   "cell_type": "code",
   "execution_count": 136,
   "id": "87f0fd09-7357-4112-8095-969554051865",
   "metadata": {},
   "outputs": [
    {
     "data": {
      "application/vnd.jupyter.widget-view+json": {
       "model_id": "08d04250da48483a9a8e89d49e50ac52",
       "version_major": 2,
       "version_minor": 0
      },
      "text/plain": [
       "Map(center=[18.42, 77.35], controls=(ZoomControl(options=['position', 'zoom_in_text', 'zoom_in_title', 'zoom_o…"
      ]
     },
     "execution_count": 136,
     "metadata": {},
     "output_type": "execute_result"
    }
   ],
   "source": [
    "m"
   ]
  }
 ],
 "metadata": {
  "kernelspec": {
   "display_name": "Python 3 (ipykernel)",
   "language": "python",
   "name": "python3"
  },
  "language_info": {
   "codemirror_mode": {
    "name": "ipython",
    "version": 3
   },
   "file_extension": ".py",
   "mimetype": "text/x-python",
   "name": "python",
   "nbconvert_exporter": "python",
   "pygments_lexer": "ipython3",
   "version": "3.8.13"
  }
 },
 "nbformat": 4,
 "nbformat_minor": 5
}
