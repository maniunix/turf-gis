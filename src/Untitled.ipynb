{
 "cells": [
  {
   "cell_type": "code",
   "execution_count": 91,
   "id": "6134e036-76e6-4a11-b575-a6ab736c1b0c",
   "metadata": {},
   "outputs": [],
   "source": [
    "import geopandas as gpd\n",
    "import turfpy\n",
    "from ipyleaflet import Map, GeoJSON, LayersControl"
   ]
  },
  {
   "cell_type": "code",
   "execution_count": 75,
   "id": "b671ac0d-259e-4bef-a6bd-7c0329650aa9",
   "metadata": {},
   "outputs": [
    {
     "data": {
      "text/plain": [
       "<Geographic 2D CRS: EPSG:4326>\n",
       "Name: WGS 84\n",
       "Axis Info [ellipsoidal]:\n",
       "- Lat[north]: Geodetic latitude (degree)\n",
       "- Lon[east]: Geodetic longitude (degree)\n",
       "Area of Use:\n",
       "- name: World.\n",
       "- bounds: (-180.0, -90.0, 180.0, 90.0)\n",
       "Datum: World Geodetic System 1984 ensemble\n",
       "- Ellipsoid: WGS 84\n",
       "- Prime Meridian: Greenwich"
      ]
     },
     "execution_count": 75,
     "metadata": {},
     "output_type": "execute_result"
    }
   ],
   "source": [
    "geojson_path = \"../1225/1225.shp\"\n",
    "gdf = gpd.read_file(geojson_path)\n",
    "# gdf = gdf.to_crs(4326)\n",
    "gdf.crs"
   ]
  },
  {
   "cell_type": "code",
   "execution_count": 85,
   "id": "731e1f87-824b-47e2-8c4d-aa6196a023c5",
   "metadata": {},
   "outputs": [],
   "source": [
    "lat = list(gdf.geometry[0].centroid.coords)[0][0]\n",
    "lon = list(gdf.geometry[0].centroid.coords)[0][1]"
   ]
  },
  {
   "cell_type": "code",
   "execution_count": 100,
   "id": "f81fd4b4-5415-44ca-8b0f-251f4422a5c1",
   "metadata": {},
   "outputs": [
    {
     "data": {
      "application/vnd.jupyter.widget-view+json": {
       "model_id": "9076fd15bc0449dd9d51fe251f8e5e51",
       "version_major": 2,
       "version_minor": 0
      },
      "text/plain": [
       "Map(center=[26.443490000000004, 93.96732999999999], controls=(ZoomControl(options=['position', 'zoom_in_text',…"
      ]
     },
     "execution_count": 100,
     "metadata": {},
     "output_type": "execute_result"
    }
   ],
   "source": [
    "m = Map(center=[lon,lat], zoom=14)\n",
    "m"
   ]
  }
 ],
 "metadata": {
  "kernelspec": {
   "display_name": "Python 3 (ipykernel)",
   "language": "python",
   "name": "python3"
  },
  "language_info": {
   "codemirror_mode": {
    "name": "ipython",
    "version": 3
   },
   "file_extension": ".py",
   "mimetype": "text/x-python",
   "name": "python",
   "nbconvert_exporter": "python",
   "pygments_lexer": "ipython3",
   "version": "3.8.13"
  }
 },
 "nbformat": 4,
 "nbformat_minor": 5
}
