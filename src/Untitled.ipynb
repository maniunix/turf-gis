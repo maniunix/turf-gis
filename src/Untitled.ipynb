{
 "cells": [
  {
   "cell_type": "code",
   "execution_count": 83,
   "id": "6134e036-76e6-4a11-b575-a6ab736c1b0c",
   "metadata": {},
   "outputs": [],
   "source": [
    "import geopandas as gpd\n",
    "import turfpy\n",
    "from geojson import Point, Feature, FeatureCollection\n",
    "from ipyleaflet import Map, GeoJSON, LayersControl\n",
    "import folium\n",
    "from turfpy.measurement import nearest_point"
   ]
  },
  {
   "cell_type": "code",
   "execution_count": 24,
   "id": "b671ac0d-259e-4bef-a6bd-7c0329650aa9",
   "metadata": {},
   "outputs": [
    {
     "name": "stderr",
     "output_type": "stream",
     "text": [
      "C:\\Users\\Asus\\miniconda3\\envs\\gis\\lib\\site-packages\\pandas\\core\\dtypes\\cast.py:128: ShapelyDeprecationWarning: The array interface is deprecated and will no longer work in Shapely 2.0. Convert the '.coords' to a numpy array instead.\n",
      "  arr = construct_1d_object_array_from_listlike(values)\n"
     ]
    },
    {
     "data": {
      "text/html": [
       "<div>\n",
       "<style scoped>\n",
       "    .dataframe tbody tr th:only-of-type {\n",
       "        vertical-align: middle;\n",
       "    }\n",
       "\n",
       "    .dataframe tbody tr th {\n",
       "        vertical-align: top;\n",
       "    }\n",
       "\n",
       "    .dataframe thead th {\n",
       "        text-align: right;\n",
       "    }\n",
       "</style>\n",
       "<table border=\"1\" class=\"dataframe\">\n",
       "  <thead>\n",
       "    <tr style=\"text-align: right;\">\n",
       "      <th></th>\n",
       "      <th>KARNA_ID</th>\n",
       "      <th>NAME_11</th>\n",
       "      <th>SUB_DIST11</th>\n",
       "      <th>DISTRICT11</th>\n",
       "      <th>STATE_UT</th>\n",
       "      <th>CENSUS2011</th>\n",
       "      <th>geometry</th>\n",
       "      <th>centroid</th>\n",
       "    </tr>\n",
       "  </thead>\n",
       "  <tbody>\n",
       "    <tr>\n",
       "      <th>0</th>\n",
       "      <td>1</td>\n",
       "      <td>Mukhed</td>\n",
       "      <td>Aurad</td>\n",
       "      <td>Bidar</td>\n",
       "      <td>Karnataka</td>\n",
       "      <td>2955805456599970</td>\n",
       "      <td>POLYGON ((77.26762 18.45161, 77.27471 18.47334...</td>\n",
       "      <td>POINT (77.28518620189236 18.461010115602893)</td>\n",
       "    </tr>\n",
       "    <tr>\n",
       "      <th>1</th>\n",
       "      <td>2</td>\n",
       "      <td>Bawalgaon</td>\n",
       "      <td>Aurad</td>\n",
       "      <td>Bidar</td>\n",
       "      <td>Karnataka</td>\n",
       "      <td>2955805456599972</td>\n",
       "      <td>POLYGON ((77.33392 18.42091, 77.33502 18.42085...</td>\n",
       "      <td>POINT (77.3589626888698 18.42177201032195)</td>\n",
       "    </tr>\n",
       "  </tbody>\n",
       "</table>\n",
       "</div>"
      ],
      "text/plain": [
       "   KARNA_ID    NAME_11 SUB_DIST11 DISTRICT11   STATE_UT        CENSUS2011  \\\n",
       "0         1     Mukhed      Aurad      Bidar  Karnataka  2955805456599970   \n",
       "1         2  Bawalgaon      Aurad      Bidar  Karnataka  2955805456599972   \n",
       "\n",
       "                                            geometry  \\\n",
       "0  POLYGON ((77.26762 18.45161, 77.27471 18.47334...   \n",
       "1  POLYGON ((77.33392 18.42091, 77.33502 18.42085...   \n",
       "\n",
       "                                       centroid  \n",
       "0  POINT (77.28518620189236 18.461010115602893)  \n",
       "1    POINT (77.3589626888698 18.42177201032195)  "
      ]
     },
     "execution_count": 24,
     "metadata": {},
     "output_type": "execute_result"
    }
   ],
   "source": [
    "geojson_path = \"E:/Satyukt/paired_pilot/data/shp/VILLAGE.shp\"\n",
    "gdf = gpd.read_file(geojson_path)\n",
    "gdf = gdf.to_crs(4326)\n",
    "gdf['centroid'] = [x.centroid for x in gdf.geometry]\n",
    "gdf.head(2)\n",
    "# gdf['name'] = \"This is a popup\""
   ]
  },
  {
   "cell_type": "code",
   "execution_count": 48,
   "id": "f81fd4b4-5415-44ca-8b0f-251f4422a5c1",
   "metadata": {},
   "outputs": [],
   "source": [
    "m = Map(center = [18.42,77.35], zoom = 12)"
   ]
  },
  {
   "cell_type": "markdown",
   "id": "cbe63fa2-f740-43c8-a1d3-ceaeb70d62e1",
   "metadata": {},
   "source": [
    "---\n",
    "Turf"
   ]
  },
  {
   "cell_type": "code",
   "execution_count": 126,
   "id": "f8062c8f-38d1-4d89-a9f8-2368db590fad",
   "metadata": {},
   "outputs": [],
   "source": [
    "## Convert all the centroid to feature collection\n",
    "feature_collection = FeatureCollection([[Feature(geometry= Point(gdf['centroid'][i].coords)) for i in range(len(gdf.loc[5]))]])"
   ]
  },
  {
   "cell_type": "code",
   "execution_count": 129,
   "id": "107d396f-4157-426e-8f5f-2505bad5b655",
   "metadata": {},
   "outputs": [
    {
     "ename": "KeyError",
     "evalue": "'geometry'",
     "output_type": "error",
     "traceback": [
      "\u001b[1;31m---------------------------------------------------------------------------\u001b[0m",
      "\u001b[1;31mTypeError\u001b[0m                                 Traceback (most recent call last)",
      "File \u001b[1;32m~\\miniconda3\\envs\\gis\\lib\\site-packages\\geojson\\feature.py:59\u001b[0m, in \u001b[0;36mFeatureCollection.__getitem__\u001b[1;34m(self, key)\u001b[0m\n\u001b[0;32m     58\u001b[0m \u001b[38;5;28;01mtry\u001b[39;00m:\n\u001b[1;32m---> 59\u001b[0m     \u001b[38;5;28;01mreturn\u001b[39;00m \u001b[38;5;28;43mself\u001b[39;49m\u001b[38;5;241;43m.\u001b[39;49m\u001b[43mget\u001b[49m\u001b[43m(\u001b[49m\u001b[38;5;124;43m\"\u001b[39;49m\u001b[38;5;124;43mfeatures\u001b[39;49m\u001b[38;5;124;43m\"\u001b[39;49m\u001b[43m,\u001b[49m\u001b[43m \u001b[49m\u001b[43m(\u001b[49m\u001b[43m)\u001b[49m\u001b[43m)\u001b[49m\u001b[43m[\u001b[49m\u001b[43mkey\u001b[49m\u001b[43m]\u001b[49m\n\u001b[0;32m     60\u001b[0m \u001b[38;5;28;01mexcept\u001b[39;00m (\u001b[38;5;167;01mKeyError\u001b[39;00m, \u001b[38;5;167;01mTypeError\u001b[39;00m, \u001b[38;5;167;01mIndexError\u001b[39;00m):\n",
      "\u001b[1;31mTypeError\u001b[0m: list indices must be integers or slices, not str",
      "\nDuring handling of the above exception, another exception occurred:\n",
      "\u001b[1;31mKeyError\u001b[0m                                  Traceback (most recent call last)",
      "Cell \u001b[1;32mIn [129], line 1\u001b[0m\n\u001b[1;32m----> 1\u001b[0m \u001b[43mnearest_point\u001b[49m\u001b[43m(\u001b[49m\u001b[43mfeature_collection\u001b[49m\u001b[43m,\u001b[49m\u001b[43m \u001b[49m\u001b[43mFeature\u001b[49m\u001b[43m(\u001b[49m\u001b[43mgeometry\u001b[49m\u001b[38;5;241;43m=\u001b[39;49m\u001b[43m \u001b[49m\u001b[43mPoint\u001b[49m\u001b[43m(\u001b[49m\u001b[43mgdf\u001b[49m\u001b[43m[\u001b[49m\u001b[38;5;124;43m'\u001b[39;49m\u001b[38;5;124;43mcentroid\u001b[39;49m\u001b[38;5;124;43m'\u001b[39;49m\u001b[43m]\u001b[49m\u001b[43m[\u001b[49m\u001b[38;5;241;43m0\u001b[39;49m\u001b[43m]\u001b[49m\u001b[38;5;241;43m.\u001b[39;49m\u001b[43mcoords\u001b[49m\u001b[43m)\u001b[49m\u001b[43m)\u001b[49m\u001b[43m)\u001b[49m\n",
      "File \u001b[1;32m~\\miniconda3\\envs\\gis\\lib\\site-packages\\turfpy\\measurement.py:592\u001b[0m, in \u001b[0;36mnearest_point\u001b[1;34m(target_point, points)\u001b[0m\n\u001b[0;32m    589\u001b[0m         min_dist \u001b[38;5;241m=\u001b[39m distance_to_point\n\u001b[0;32m    590\u001b[0m     \u001b[38;5;28;01mreturn\u001b[39;00m \u001b[38;5;28;01mTrue\u001b[39;00m\n\u001b[1;32m--> 592\u001b[0m \u001b[43mfeature_each\u001b[49m\u001b[43m(\u001b[49m\u001b[43mpoints\u001b[49m\u001b[43m,\u001b[49m\u001b[43m \u001b[49m\u001b[43m_callback_feature_each\u001b[49m\u001b[43m)\u001b[49m\n\u001b[0;32m    594\u001b[0m nearest \u001b[38;5;241m=\u001b[39m points[\u001b[38;5;124m\"\u001b[39m\u001b[38;5;124mfeatures\u001b[39m\u001b[38;5;124m\"\u001b[39m][best_feature_index]\n\u001b[0;32m    595\u001b[0m nearest[\u001b[38;5;124m\"\u001b[39m\u001b[38;5;124mproperties\u001b[39m\u001b[38;5;124m\"\u001b[39m][\u001b[38;5;124m\"\u001b[39m\u001b[38;5;124mfeatureIndex\u001b[39m\u001b[38;5;124m\"\u001b[39m] \u001b[38;5;241m=\u001b[39m best_feature_index\n",
      "File \u001b[1;32m~\\miniconda3\\envs\\gis\\lib\\site-packages\\turfpy\\meta.py:448\u001b[0m, in \u001b[0;36mfeature_each\u001b[1;34m(geojson, callback)\u001b[0m\n\u001b[0;32m    446\u001b[0m \u001b[38;5;28;01mdef\u001b[39;00m \u001b[38;5;21mfeature_each\u001b[39m(geojson, callback):\n\u001b[0;32m    447\u001b[0m     \u001b[38;5;28;01mif\u001b[39;00m geojson[\u001b[38;5;124m\"\u001b[39m\u001b[38;5;124mtype\u001b[39m\u001b[38;5;124m\"\u001b[39m] \u001b[38;5;241m==\u001b[39m \u001b[38;5;124m\"\u001b[39m\u001b[38;5;124mFeature\u001b[39m\u001b[38;5;124m\"\u001b[39m:\n\u001b[1;32m--> 448\u001b[0m         \u001b[43mcallback\u001b[49m\u001b[43m(\u001b[49m\u001b[43mgeojson\u001b[49m\u001b[43m,\u001b[49m\u001b[43m \u001b[49m\u001b[38;5;241;43m0\u001b[39;49m\u001b[43m)\u001b[49m\n\u001b[0;32m    449\u001b[0m     \u001b[38;5;28;01melif\u001b[39;00m geojson[\u001b[38;5;124m\"\u001b[39m\u001b[38;5;124mtype\u001b[39m\u001b[38;5;124m\"\u001b[39m] \u001b[38;5;241m==\u001b[39m \u001b[38;5;124m\"\u001b[39m\u001b[38;5;124mFeatureCollection\u001b[39m\u001b[38;5;124m\"\u001b[39m:\n\u001b[0;32m    450\u001b[0m         \u001b[38;5;28;01mfor\u001b[39;00m i \u001b[38;5;129;01min\u001b[39;00m \u001b[38;5;28mrange\u001b[39m(\u001b[38;5;241m0\u001b[39m, \u001b[38;5;28mlen\u001b[39m(geojson[\u001b[38;5;124m\"\u001b[39m\u001b[38;5;124mfeatures\u001b[39m\u001b[38;5;124m\"\u001b[39m])):\n",
      "File \u001b[1;32m~\\miniconda3\\envs\\gis\\lib\\site-packages\\turfpy\\measurement.py:586\u001b[0m, in \u001b[0;36mnearest_point.<locals>._callback_feature_each\u001b[1;34m(pt, feature_index)\u001b[0m\n\u001b[0;32m    584\u001b[0m \u001b[38;5;28;01mdef\u001b[39;00m \u001b[38;5;21m_callback_feature_each\u001b[39m(pt, feature_index):\n\u001b[0;32m    585\u001b[0m     \u001b[38;5;28;01mnonlocal\u001b[39;00m min_dist, best_feature_index\n\u001b[1;32m--> 586\u001b[0m     distance_to_point \u001b[38;5;241m=\u001b[39m \u001b[43mdistance\u001b[49m\u001b[43m(\u001b[49m\u001b[43mtarget_point\u001b[49m\u001b[43m,\u001b[49m\u001b[43m \u001b[49m\u001b[43mpt\u001b[49m\u001b[43m)\u001b[49m\n\u001b[0;32m    587\u001b[0m     \u001b[38;5;28;01mif\u001b[39;00m \u001b[38;5;28mfloat\u001b[39m(distance_to_point) \u001b[38;5;241m<\u001b[39m min_dist:\n\u001b[0;32m    588\u001b[0m         best_feature_index \u001b[38;5;241m=\u001b[39m feature_index\n",
      "File \u001b[1;32m~\\miniconda3\\envs\\gis\\lib\\site-packages\\turfpy\\measurement.py:112\u001b[0m, in \u001b[0;36mdistance\u001b[1;34m(point1, point2, units)\u001b[0m\n\u001b[0;32m     91\u001b[0m \u001b[38;5;28;01mdef\u001b[39;00m \u001b[38;5;21mdistance\u001b[39m(point1: Feature, point2: Feature, units: \u001b[38;5;28mstr\u001b[39m \u001b[38;5;241m=\u001b[39m \u001b[38;5;124m\"\u001b[39m\u001b[38;5;124mkm\u001b[39m\u001b[38;5;124m\"\u001b[39m):\n\u001b[0;32m     92\u001b[0m     \u001b[38;5;124;03m\"\"\"\u001b[39;00m\n\u001b[0;32m     93\u001b[0m \u001b[38;5;124;03m    Calculates distance between two Points. A point is containing latitude and\u001b[39;00m\n\u001b[0;32m     94\u001b[0m \u001b[38;5;124;03m    logitude in decimal degrees and ``unit`` is optional.\u001b[39;00m\n\u001b[1;32m   (...)\u001b[0m\n\u001b[0;32m    110\u001b[0m \u001b[38;5;124;03m    >>> measurement.distance(start,end)\u001b[39;00m\n\u001b[0;32m    111\u001b[0m \u001b[38;5;124;03m    \"\"\"\u001b[39;00m\n\u001b[1;32m--> 112\u001b[0m     coordinates1 \u001b[38;5;241m=\u001b[39m \u001b[43mget_coord\u001b[49m\u001b[43m(\u001b[49m\u001b[43mpoint1\u001b[49m\u001b[43m)\u001b[49m\n\u001b[0;32m    113\u001b[0m     coordinates2 \u001b[38;5;241m=\u001b[39m get_coord(point2)\n\u001b[0;32m    115\u001b[0m     dlat \u001b[38;5;241m=\u001b[39m radians((coordinates2[\u001b[38;5;241m1\u001b[39m] \u001b[38;5;241m-\u001b[39m coordinates1[\u001b[38;5;241m1\u001b[39m]))\n",
      "File \u001b[1;32m~\\miniconda3\\envs\\gis\\lib\\site-packages\\turfpy\\helper.py:80\u001b[0m, in \u001b[0;36mget_coord\u001b[1;34m(coord)\u001b[0m\n\u001b[0;32m     76\u001b[0m \u001b[38;5;28;01melif\u001b[39;00m \u001b[38;5;28misinstance\u001b[39m(coord, Point):\n\u001b[0;32m     77\u001b[0m     \u001b[38;5;28;01mreturn\u001b[39;00m coord[\u001b[38;5;124m\"\u001b[39m\u001b[38;5;124mcoordinates\u001b[39m\u001b[38;5;124m\"\u001b[39m]\n\u001b[0;32m     78\u001b[0m \u001b[38;5;28;01melif\u001b[39;00m (\n\u001b[0;32m     79\u001b[0m     \u001b[38;5;28misinstance\u001b[39m(coord, \u001b[38;5;28mdict\u001b[39m)\n\u001b[1;32m---> 80\u001b[0m     \u001b[38;5;129;01mand\u001b[39;00m \u001b[43mcoord\u001b[49m\u001b[43m[\u001b[49m\u001b[38;5;124;43m\"\u001b[39;49m\u001b[38;5;124;43mgeometry\u001b[39;49m\u001b[38;5;124;43m\"\u001b[39;49m\u001b[43m]\u001b[49m\n\u001b[0;32m     81\u001b[0m     \u001b[38;5;129;01mand\u001b[39;00m coord[\u001b[38;5;124m\"\u001b[39m\u001b[38;5;124mgeometry\u001b[39m\u001b[38;5;124m\"\u001b[39m][\u001b[38;5;124m\"\u001b[39m\u001b[38;5;124mtype\u001b[39m\u001b[38;5;124m\"\u001b[39m] \u001b[38;5;241m==\u001b[39m \u001b[38;5;124m\"\u001b[39m\u001b[38;5;124mPoint\u001b[39m\u001b[38;5;124m\"\u001b[39m\n\u001b[0;32m     82\u001b[0m ):\n\u001b[0;32m     83\u001b[0m     \u001b[38;5;28;01mreturn\u001b[39;00m coord[\u001b[38;5;124m\"\u001b[39m\u001b[38;5;124mgeometry\u001b[39m\u001b[38;5;124m\"\u001b[39m][\u001b[38;5;124m\"\u001b[39m\u001b[38;5;124mcoordinates\u001b[39m\u001b[38;5;124m\"\u001b[39m]\n\u001b[0;32m     84\u001b[0m \u001b[38;5;28;01melse\u001b[39;00m:\n",
      "File \u001b[1;32m~\\miniconda3\\envs\\gis\\lib\\site-packages\\geojson\\feature.py:61\u001b[0m, in \u001b[0;36mFeatureCollection.__getitem__\u001b[1;34m(self, key)\u001b[0m\n\u001b[0;32m     59\u001b[0m     \u001b[38;5;28;01mreturn\u001b[39;00m \u001b[38;5;28mself\u001b[39m\u001b[38;5;241m.\u001b[39mget(\u001b[38;5;124m\"\u001b[39m\u001b[38;5;124mfeatures\u001b[39m\u001b[38;5;124m\"\u001b[39m, ())[key]\n\u001b[0;32m     60\u001b[0m \u001b[38;5;28;01mexcept\u001b[39;00m (\u001b[38;5;167;01mKeyError\u001b[39;00m, \u001b[38;5;167;01mTypeError\u001b[39;00m, \u001b[38;5;167;01mIndexError\u001b[39;00m):\n\u001b[1;32m---> 61\u001b[0m     \u001b[38;5;28;01mreturn\u001b[39;00m \u001b[38;5;28;43msuper\u001b[39;49m\u001b[43m(\u001b[49m\u001b[43mGeoJSON\u001b[49m\u001b[43m,\u001b[49m\u001b[43m \u001b[49m\u001b[38;5;28;43mself\u001b[39;49m\u001b[43m)\u001b[49m\u001b[38;5;241;43m.\u001b[39;49m\u001b[38;5;21;43m__getitem__\u001b[39;49m\u001b[43m(\u001b[49m\u001b[43mkey\u001b[49m\u001b[43m)\u001b[49m\n",
      "\u001b[1;31mKeyError\u001b[0m: 'geometry'"
     ]
    }
   ],
   "source": [
    "nearest_point(feature_collection, Feature(geometry= Point(gdf['centroid'][0].coords)))\n",
    "# Point(gdf['centroid'][0].coords)\n",
    "# gdf['centroid'][0].coords\n",
    "# feature_collection"
   ]
  },
  {
   "cell_type": "code",
   "execution_count": null,
   "id": "deaadc8c-a994-40c2-973d-1966253ce042",
   "metadata": {},
   "outputs": [],
   "source": []
  }
 ],
 "metadata": {
  "kernelspec": {
   "display_name": "Python 3 (ipykernel)",
   "language": "python",
   "name": "python3"
  },
  "language_info": {
   "codemirror_mode": {
    "name": "ipython",
    "version": 3
   },
   "file_extension": ".py",
   "mimetype": "text/x-python",
   "name": "python",
   "nbconvert_exporter": "python",
   "pygments_lexer": "ipython3",
   "version": "3.8.13"
  }
 },
 "nbformat": 4,
 "nbformat_minor": 5
}
