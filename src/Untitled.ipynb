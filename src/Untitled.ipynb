{
 "cells": [
  {
   "cell_type": "code",
   "execution_count": 139,
   "id": "6134e036-76e6-4a11-b575-a6ab736c1b0c",
   "metadata": {},
   "outputs": [],
   "source": [
    "import geopandas as gpd\n",
    "import turfpy\n",
    "from geojson import Point, Feature, FeatureCollection\n",
    "from ipyleaflet import Map, GeoJSON, LayersControl\n",
    "import folium\n",
    "import json\n",
    "from turfpy.measurement import nearest_point, distance"
   ]
  },
  {
   "cell_type": "code",
   "execution_count": 170,
   "id": "b671ac0d-259e-4bef-a6bd-7c0329650aa9",
   "metadata": {},
   "outputs": [
    {
     "name": "stderr",
     "output_type": "stream",
     "text": [
      "C:\\Users\\Asus\\miniconda3\\envs\\gis\\lib\\site-packages\\pandas\\core\\dtypes\\cast.py:128: ShapelyDeprecationWarning: The array interface is deprecated and will no longer work in Shapely 2.0. Convert the '.coords' to a numpy array instead.\n",
      "  arr = construct_1d_object_array_from_listlike(values)\n"
     ]
    }
   ],
   "source": [
    "geojson_path = \"E:/Satyukt/paired_pilot/data/shp/VILLAGE.shp\"\n",
    "\n",
    "gdf = gpd.read_file(geojson_path)\n",
    "\n",
    "## Calculate the Centroid\n",
    "gdf['centroid'] = [x.centroid for x in gdf.geometry]\n",
    "\n",
    "#For meters\n",
    "gdf = gdf.to_crs(3763)"
   ]
  },
  {
   "cell_type": "code",
   "execution_count": 168,
   "id": "4a3b1043-214d-463f-ab48-e3429da484d8",
   "metadata": {},
   "outputs": [],
   "source": [
    "## Initialize the Map\n",
    "m = Map(center = [18.42,77.35], zoom = 12)"
   ]
  },
  {
   "cell_type": "code",
   "execution_count": 171,
   "id": "f81fd4b4-5415-44ca-8b0f-251f4422a5c1",
   "metadata": {},
   "outputs": [],
   "source": [
    "def getNearestPointDistance(pt,dist):\n",
    "    '''\n",
    "    Returns the Nearest Point in the Feature collection\n",
    "    It takes two arguments:\n",
    "        pt >> shapely.coordinates.sequence\n",
    "        dist >> Its the boolean value which if set to true, \n",
    "        Returns the distance in meters to that point\n",
    "    '''\n",
    "    global feature_collection\n",
    "    point = Point(pt)\n",
    "    if dist == True:\n",
    "        return (distance(point,nearest_point(point, feature_collection)))\n",
    "    \n",
    "    return nearest_point(point, feature_collection)\n",
    "    "
   ]
  },
  {
   "cell_type": "markdown",
   "id": "cbe63fa2-f740-43c8-a1d3-ceaeb70d62e1",
   "metadata": {},
   "source": [
    "---\n",
    "Turf"
   ]
  },
  {
   "cell_type": "code",
   "execution_count": 163,
   "id": "107d396f-4157-426e-8f5f-2505bad5b655",
   "metadata": {},
   "outputs": [],
   "source": [
    "# Convert the centroids in gdf to a FeatureCollection\n",
    "feature_collection = FeatureCollection([Feature(geometry=Point(list(gdf['centroid'][i].coords)[0])) for i in range(len(gdf))])"
   ]
  }
 ],
 "metadata": {
  "kernelspec": {
   "display_name": "Python 3 (ipykernel)",
   "language": "python",
   "name": "python3"
  },
  "language_info": {
   "codemirror_mode": {
    "name": "ipython",
    "version": 3
   },
   "file_extension": ".py",
   "mimetype": "text/x-python",
   "name": "python",
   "nbconvert_exporter": "python",
   "pygments_lexer": "ipython3",
   "version": "3.8.13"
  }
 },
 "nbformat": 4,
 "nbformat_minor": 5
}
