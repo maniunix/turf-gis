{
 "cells": [
  {
   "cell_type": "code",
   "execution_count": 56,
   "id": "6134e036-76e6-4a11-b575-a6ab736c1b0c",
   "metadata": {},
   "outputs": [],
   "source": [
    "import geopandas as gpd\n",
    "import turfpy\n",
    "from geojson import Point, Feature, FeatureCollection\n",
    "from ipyleaflet import Map, GeoJSON, LayersControl, Marker\n",
    "import folium\n",
    "import numpy as np\n",
    "import json\n",
    "from turfpy.measurement import nearest_point, distance"
   ]
  },
  {
   "cell_type": "code",
   "execution_count": 2,
   "id": "b671ac0d-259e-4bef-a6bd-7c0329650aa9",
   "metadata": {},
   "outputs": [
    {
     "name": "stderr",
     "output_type": "stream",
     "text": [
      "C:\\Users\\Asus\\miniconda3\\envs\\gis\\lib\\site-packages\\pandas\\core\\dtypes\\cast.py:128: ShapelyDeprecationWarning: The array interface is deprecated and will no longer work in Shapely 2.0. Convert the '.coords' to a numpy array instead.\n",
      "  arr = construct_1d_object_array_from_listlike(values)\n"
     ]
    }
   ],
   "source": [
    "geojson_path = \"E:/Satyukt/paired_pilot/data/shp/VILLAGE.shp\"\n",
    "\n",
    "gdf = gpd.read_file(geojson_path)\n",
    "\n",
    "## Calculate the Centroid\n",
    "gdf['centroid'] = [x.centroid for x in gdf.geometry]\n",
    "\n",
    "#For meters\n",
    "gdf = gdf.to_crs(3763)"
   ]
  },
  {
   "cell_type": "code",
   "execution_count": 3,
   "id": "4a3b1043-214d-463f-ab48-e3429da484d8",
   "metadata": {},
   "outputs": [],
   "source": [
    "## Initialize the Map\n",
    "m = Map(center = [18.42,77.35], zoom = 12)\n",
    "\n",
    "# Convert the centroids in gdf to a FeatureCollection\n",
    "feature_collection = FeatureCollection([Feature(geometry=Point(list(gdf['centroid'][i].coords)[0])) for i in range(len(gdf))])"
   ]
  },
  {
   "cell_type": "code",
   "execution_count": 4,
   "id": "f81fd4b4-5415-44ca-8b0f-251f4422a5c1",
   "metadata": {},
   "outputs": [],
   "source": [
    "def getNearestPointDistance(pt,dist):\n",
    "    '''\n",
    "    Returns the Nearest Point in the Feature collection\n",
    "    It takes two arguments:\n",
    "        pt >> shapely.coordinates.sequence\n",
    "        dist >> Its the boolean value which if set to true, \n",
    "        Returns the distance in meters to that point\n",
    "    '''\n",
    "    global feature_collection\n",
    "    point = Point(pt)\n",
    "    if dist == True:\n",
    "        return (distance(point,nearest_point(point, feature_collection)))\n",
    "    \n",
    "    return nearest_point(point, feature_collection)\n",
    "\n",
    "\n",
    "def bufferPoint(pt):\n",
    "    '''\n",
    "    Takes the Shapely.geometry.point object and returns the buffer of 50 meters\n",
    "    '''\n",
    "    return gpd.GeoSeries(pt).buffer(50)\n",
    "\n",
    "\n",
    "def pointsInBuffer(buff):\n",
    "    '''\n",
    "    Takes the Buffer of a point and returns all the points which lies inside of the Polygon\n",
    "    It returns the GeoDataFrame of the Points.\n",
    "    '''\n",
    "    return [buffer.contains(gdf['centroid'][i])[0] for i in range(len(gdf))] "
   ]
  },
  {
   "cell_type": "markdown",
   "id": "cbe63fa2-f740-43c8-a1d3-ceaeb70d62e1",
   "metadata": {},
   "source": [
    "---\n",
    "Turf"
   ]
  },
  {
   "cell_type": "code",
   "execution_count": 77,
   "id": "6161cf35-0c14-4e29-8c3d-256d386e34d8",
   "metadata": {},
   "outputs": [],
   "source": [
    "### On selecting the Point get all the points in the buffer as a list\n",
    "\n",
    "## Create Buffer from the Geoseries\n",
    "point_buff = gpd.GeoSeries(gdf['centroid'][0])\n",
    "buffer = point_buff.buffer(50)\n",
    "buffer_contains = [buffer.contains(gdf['centroid'][i])[0] for i in range(len(gdf))]\n",
    "# gdf.iloc[[idx for idx, num in enumerate(buffer_contains) if num]]\n",
    "# gdf['centroid'][0]"
   ]
  },
  {
   "cell_type": "code",
   "execution_count": 80,
   "id": "b885ac41-0b6d-41d8-aa37-54924939eda0",
   "metadata": {},
   "outputs": [],
   "source": []
  }
 ],
 "metadata": {
  "kernelspec": {
   "display_name": "Python 3 (ipykernel)",
   "language": "python",
   "name": "python3"
  },
  "language_info": {
   "codemirror_mode": {
    "name": "ipython",
    "version": 3
   },
   "file_extension": ".py",
   "mimetype": "text/x-python",
   "name": "python",
   "nbconvert_exporter": "python",
   "pygments_lexer": "ipython3",
   "version": "3.8.13"
  }
 },
 "nbformat": 4,
 "nbformat_minor": 5
}
