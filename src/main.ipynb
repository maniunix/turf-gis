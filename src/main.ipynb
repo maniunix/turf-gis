{
 "cells": [
  {
   "cell_type": "code",
   "execution_count": 91,
   "id": "6134e036-76e6-4a11-b575-a6ab736c1b0c",
   "metadata": {},
   "outputs": [],
   "source": [
    "import geopandas as gpd\n",
    "import turfpy\n",
    "from geojson import Point, Feature, FeatureCollection\n",
    "from ipyleaflet import Map, GeoJSON, LayersControl, Marker\n",
    "import folium\n",
    "import numpy as np\n",
    "import ee\n",
    "import geemap\n",
    "from turfpy.measurement import nearest_point, distance"
   ]
  },
  {
   "cell_type": "code",
   "execution_count": null,
   "id": "dbd6a35a-868c-41cb-bf07-8fd16501bfb7",
   "metadata": {},
   "outputs": [],
   "source": [
    "map = geem"
   ]
  },
  {
   "cell_type": "code",
   "execution_count": 2,
   "id": "b671ac0d-259e-4bef-a6bd-7c0329650aa9",
   "metadata": {},
   "outputs": [
    {
     "name": "stderr",
     "output_type": "stream",
     "text": [
      "C:\\Users\\Asus\\miniconda3\\envs\\gis\\lib\\site-packages\\pandas\\core\\dtypes\\cast.py:128: ShapelyDeprecationWarning: The array interface is deprecated and will no longer work in Shapely 2.0. Convert the '.coords' to a numpy array instead.\n",
      "  arr = construct_1d_object_array_from_listlike(values)\n"
     ]
    }
   ],
   "source": [
    "geojson_path = \"E:/Satyukt/paired_pilot/data/shp/VILLAGE.shp\"\n",
    "\n",
    "gdf = gpd.read_file(geojson_path)\n",
    "\n",
    "## Calculate the Centroid\n",
    "gdf['centroid'] = [x.centroid for x in gdf.geometry]\n",
    "\n",
    "#For meters\n",
    "gdf = gdf.to_crs(3763)"
   ]
  },
  {
   "cell_type": "code",
   "execution_count": 3,
   "id": "4a3b1043-214d-463f-ab48-e3429da484d8",
   "metadata": {},
   "outputs": [],
   "source": [
    "## Initialize the Map\n",
    "m = Map(center = [18.42,77.35], zoom = 12)\n",
    "\n",
    "# Convert the centroids in gdf to a FeatureCollection\n",
    "feature_collection = FeatureCollection([Feature(geometry=Point(list(gdf['centroid'][i].coords)[0])) for i in range(len(gdf))])"
   ]
  },
  {
   "cell_type": "code",
   "execution_count": 111,
   "id": "f81fd4b4-5415-44ca-8b0f-251f4422a5c1",
   "metadata": {},
   "outputs": [],
   "source": [
    "def getNearestPointDistance(pt,dist):\n",
    "    '''\n",
    "    Returns the Nearest Point in the Feature collection\n",
    "    It takes two arguments:\n",
    "        pt >> shapely.coordinates.sequence\n",
    "        dist >> Its the boolean value which if set to true, \n",
    "        Returns the distance in meters to that point\n",
    "    '''\n",
    "    global feature_collection\n",
    "    point = Point(pt)\n",
    "    if dist == True:\n",
    "        return (distance(point,nearest_point(point, feature_collection)))\n",
    "    \n",
    "    return nearest_point(point, feature_collection)\n",
    "\n",
    "\n",
    "def bufferPoint(pt):\n",
    "    '''\n",
    "    Takes the Shapely.geometry.point object and returns the buffer of 50 meters\n",
    "    '''\n",
    "    return gpd.GeoSeries(pt).buffer(50)\n",
    "\n",
    "\n",
    "\n",
    "def pointsInBuffer(buff):\n",
    "    '''\n",
    "    Takes the Buffer of a point and returns all the points which lies inside of the Polygon\n",
    "    It returns the GeoDataFrame of the Points.\n",
    "    '''\n",
    "    global gdf\n",
    "    return gdf.iloc[[buffer.contains(gdf['centroid'][i])[0] for i in range(len(gdf))]] \n",
    "\n",
    "\n",
    "def convShapelyGeometry(coords):\n",
    "    '''\n",
    "    Convert the Shapely.geometry.Point object to ee.Geometry.Point object\n",
    "    '''\n",
    "    return ee.Geometry.Point(list(coords.coords)[0])\n",
    "\n",
    "\n",
    "def getNDVI(coords):\n",
    "    '''\n",
    "    Calculate the NDVI value of the first image for the ee.Geometry.Point object\n",
    "    Returns NDVI value\n",
    "    '''\n",
    "    coords = convShapelyGeometry(coords)\n",
    "    \n",
    "    s2_collection = ee.ImageCollection('COPERNICUS/S2_SR').filterBounds(coords).first()\n",
    "    \n",
    "    ndvi = image.normalizedDifference(['B8', 'B4'])\n",
    "    \n",
    "    # Get the value of NDVI at the point of interest\n",
    "    point_ndvi = ndvi.reduceRegion(\n",
    "        reducer=ee.Reducer.first(),\n",
    "        geometry=ee_point,\n",
    "        scale=10\n",
    "    )\n",
    "\n",
    "    ndvi_value = point_ndvi.get('nd').getInfo()\n",
    "    return ndvi_value\n",
    "    "
   ]
  },
  {
   "cell_type": "code",
   "execution_count": 113,
   "id": "45f32267-a999-4243-ac37-3451b073d5fa",
   "metadata": {},
   "outputs": [
    {
     "data": {
      "text/plain": [
       "0   -0.00521\n",
       "1   -0.00521\n",
       "2   -0.00521\n",
       "3   -0.00521\n",
       "4   -0.00521\n",
       "5   -0.00521\n",
       "Name: centroid, dtype: float64"
      ]
     },
     "execution_count": 113,
     "metadata": {},
     "output_type": "execute_result"
    }
   ],
   "source": []
  }
 ],
 "metadata": {
  "kernelspec": {
   "display_name": "Python 3 (ipykernel)",
   "language": "python",
   "name": "python3"
  },
  "language_info": {
   "codemirror_mode": {
    "name": "ipython",
    "version": 3
   },
   "file_extension": ".py",
   "mimetype": "text/x-python",
   "name": "python",
   "nbconvert_exporter": "python",
   "pygments_lexer": "ipython3",
   "version": "3.8.13"
  }
 },
 "nbformat": 4,
 "nbformat_minor": 5
}
